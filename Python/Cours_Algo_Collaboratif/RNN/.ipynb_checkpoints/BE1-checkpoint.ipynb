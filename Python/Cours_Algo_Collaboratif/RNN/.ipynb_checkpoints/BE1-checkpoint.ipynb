{
 "cells": [
  {
   "cell_type": "markdown",
   "id": "5d556e48-89d7-4ade-b9ea-337f2a24aa7c",
   "metadata": {},
   "source": [
    "# BE 1 :"
   ]
  },
  {
   "cell_type": "markdown",
   "id": "736d9d48-77c6-4b63-beae-a1c2e9824359",
   "metadata": {
    "tags": []
   },
   "source": [
    "## Les imports"
   ]
  },
  {
   "cell_type": "code",
   "execution_count": 22,
   "id": "cfe8dc86-e57a-4843-bfb9-f94be040f85d",
   "metadata": {},
   "outputs": [],
   "source": [
    "import math as mp\n",
    "import numpy as np\n",
    "import matplotlib.pyplot as plt\n",
    "import time"
   ]
  },
  {
   "cell_type": "markdown",
   "id": "454dd2b7-1320-48db-9850-b43d760bff59",
   "metadata": {},
   "source": [
    "## Problème 0"
   ]
  },
  {
   "cell_type": "markdown",
   "id": "40da1253-42bf-4ba5-a2cc-e577537aa14b",
   "metadata": {},
   "source": [
    "La fonction utilisée est : sur [-1;1]"
   ]
  },
  {
   "cell_type": "code",
   "execution_count": 19,
   "id": "1a754370-e141-40bf-8bb6-62050b508210",
   "metadata": {},
   "outputs": [],
   "source": [
    "def f(x):\n",
    "    return -x*x*(2+np.sin(10*x))**2"
   ]
  },
  {
   "cell_type": "code",
   "execution_count": 20,
   "id": "99b317dc-a904-4225-8802-aff41b2330c9",
   "metadata": {},
   "outputs": [],
   "source": [
    "def tracer():\n",
    "    X = np.linspace(-1,1,100)\n",
    "    plt.figure()\n",
    "    plt.plot(X,f(X))\n",
    "    plt.title('f(X)')"
   ]
  },
  {
   "cell_type": "code",
   "execution_count": 21,
   "id": "18cc7d17-a470-457e-8899-254a2d15611e",
   "metadata": {},
   "outputs": [
    {
     "data": {
      "image/png": "[encoded data removed]",
      "text/plain": [
       "<Figure size 432x288 with 1 Axes>"
      ]
     },
     "metadata": {
      "needs_background": "light"
     },
     "output_type": "display_data"
    }
   ],
   "source": [
    "tracer()"
   ]
  },
  {
   "cell_type": "code",
   "execution_count": 68,
   "id": "c58a0d72-504f-4902-9202-de8919f14481",
   "metadata": {},
   "outputs": [],
   "source": [
    "def mesure_temps(algo,param):\n",
    "    debut = time.time()\n",
    "    rendu = algo(*param)\n",
    "    fin = time.time()\n",
    "    duree = fin - debut\n",
    "    #print(\"Le temps d'exécution de l'algorithme est de :\", duree, \"secondes\")\n",
    "    #print(\"Le résultat est :\", rendu)\n",
    "    \n",
    "    return duree, rendu"
   ]
  },
  {
   "cell_type": "markdown",
   "id": "b4d7d1a0-ed4f-471d-8012-ee6a672736cb",
   "metadata": {},
   "source": [
    "### Test d'un premier algo génétique"
   ]
  },
  {
   "cell_type": "code",
   "execution_count": 74,
   "id": "b900bf18-b8fe-404c-a5c8-783510bc7613",
   "metadata": {},
   "outputs": [],
   "source": [
    "def algo_genetique(Npop,pM,pm,ps,prec,em):\n",
    "    \n",
    "    #On génère un tableau numpy de départ de facon aléatoire\n",
    "    pop = np.random.uniform(-1, 1, (Npop))\n",
    "    #On calcul f(depart)\n",
    "    calcul = f(pop)\n",
    "    \n",
    "    #On trie le résultat (ainsi que la pop initiale)\n",
    "    indices = np.argsort(calcul)\n",
    "    pop = pop[indices]\n",
    "    calcul = calcul[indices]\n",
    "    \n",
    "    #On calcul l'erreur :\n",
    "    erreur = abs(calcul[Npop-1]) #on sait que le maximum est en 0 (calcul théorique)\n",
    "\n",
    "    # !!! ON NE REMPLACE QUE LA FIN DE LA LISTE !!!\n",
    "    #Boucle de répétition :\n",
    "    while erreur > prec :\n",
    "        \n",
    "        #Grande mutation :\n",
    "        if pM > 0: \n",
    "            #on calcul le nombre d'élément à modifier\n",
    "            taille_sous_tableau_M = int(pM*Npop)\n",
    "            #on calcul les valeurs alétoire\n",
    "            pop_M = np.random.uniform(-1, 1, (taille_sous_tableau_M))\n",
    "            #on fait l'attribution\n",
    "            pop[0:taille_sous_tableau_M] = pop_M\n",
    "    \n",
    "        #Petite mutation : \n",
    "        if pm > 0 :\n",
    "            #on réattribue une valeur aléatoire dans une boule de rayon em\n",
    "            taille_sous_tableau_m = int(pm*Npop)\n",
    "            pop_m = pop[Npop-1] + np.random.uniform(-em, em, (taille_sous_tableau_m))\n",
    "            pop[taille_sous_tableau_M:taille_sous_tableau_M+taille_sous_tableau_m+1] = pop_m    \n",
    "\n",
    "        #Crossover :\n",
    "        if ps>0:\n",
    "            taille_sous_tableau_s = int(ps*Npop)\n",
    "            pop_s = (pop[Npop-1] + pop[taille_sous_tableau_M+taille_sous_tableau_m+1:taille_sous_tableau_M+taille_sous_tableau_m+taille_sous_tableau_s+1])/2\n",
    "            pop[taille_sous_tableau_M+taille_sous_tableau_m+1:taille_sous_tableau_M+taille_sous_tableau_m+taille_sous_tableau_s+1] = pop_s\n",
    "\n",
    "        #On calcul f(depart)\n",
    "        calcul = f(pop)\n",
    "    \n",
    "        #On trie le résultat (ainsi que la pop initiale)\n",
    "        indices = np.argsort(calcul)\n",
    "        pop = pop[indices]\n",
    "        calcul = calcul[indices]\n",
    "\n",
    "        #On calcul l'erreur :\n",
    "        erreur = abs(calcul[Npop-1]) #on sait que le maximum est en 0 (calcul théorique)\n",
    "            \n",
    "    return calcul[Npop-1]  "
   ]
  },
  {
   "cell_type": "code",
   "execution_count": 65,
   "id": "d95f2d50-a5a3-4314-aad9-b26336b533ae",
   "metadata": {},
   "outputs": [
    {
     "name": "stdout",
     "output_type": "stream",
     "text": [
      "Le temps d'exécution de l'algorithme est de : 0.1734023094177246 secondes\n",
      "Le résultat est : -8.692122142051062e-07\n"
     ]
    }
   ],
   "source": [
    "param = [10,0.8,0.1,0.1,1e-10,0.5]\n",
    "duree , rendu = mesure_temps(algo_genetique,param)"
   ]
  },
  {
   "cell_type": "code",
   "execution_count": 87,
   "id": "d2e779d6-7cd5-4a3c-9281-21a036cf3f79",
   "metadata": {},
   "outputs": [],
   "source": [
    "def tracer_courbe(Nb_pts):\n",
    "    eps = 1e-100\n",
    "    l_tps = []\n",
    "    l_rendu = []\n",
    "    for i in range(1,Nb_pts+1):\n",
    "        param = [10,0.8,0,0,10**(-8*(i/10)),0]\n",
    "        duree , rendu = mesure_temps(algo_genetique,param)\n",
    "        l_rendu.append(rendu)\n",
    "        print(\"duree:\" , duree, \" rendu:\" ,rendu)\n",
    "        l_tps.append(np.log(duree+eps))\n",
    "    plt.figure()\n",
    "    plt.plot(duree,rendu)\n",
    "    plt.title(\"Rendu en fonction du log(temps)\")\n",
    "    return l_tps , l_rendu"
   ]
  },
  {
   "cell_type": "code",
   "execution_count": 88,
   "id": "21c42ee5-a9dc-4a7e-bc31-b496d00c910f",
   "metadata": {},
   "outputs": [
    {
     "name": "stdout",
     "output_type": "stream",
     "text": [
      "duree: 0.0  rendu: -0.008854019351320989\n",
      "duree: 0.0  rendu: -0.0032423969894956072\n",
      "duree: 0.0  rendu: -0.0031005473997113508\n",
      "duree: 0.0  rendu: -1.4848075798472212e-06\n",
      "duree: 0.007031679153442383  rendu: -8.008396716197944e-05\n",
      "duree: 0.0  rendu: -1.4266981278575107e-06\n",
      "duree: 0.0  rendu: -2.958355430143888e-08\n",
      "duree: 0.008792638778686523  rendu: -8.993352006044247e-08\n",
      "duree: 0.007906913757324219  rendu: -1.0338605851828317e-09\n",
      "duree: 0.138580322265625  rendu: -4.944904086526277e-10\n",
      "duree: 0.04201078414916992  rendu: -2.529114907923131e-10\n",
      "duree: 0.09133672714233398  rendu: -1.2946787549298536e-10\n",
      "duree: 0.016918420791625977  rendu: -1.4018062784572513e-11\n",
      "duree: 0.0822751522064209  rendu: -4.241851481814778e-12\n",
      "duree: 6.416809320449829  rendu: -8.411744379227193e-13\n"
     ]
    },
    {
     "data": {
      "image/png": "[encoded data removed]",
      "text/plain": [
       "<Figure size 432x288 with 1 Axes>"
      ]
     },
     "metadata": {
      "needs_background": "light"
     },
     "output_type": "display_data"
    }
   ],
   "source": [
    "l_tps , l_rendu = tracer_courbe(15)"
   ]
  },
  {
   "cell_type": "code",
   "execution_count": 100,
   "id": "ef9442bd-783f-433d-b62f-53413f3c951e",
   "metadata": {},
   "outputs": [
    {
     "data": {
      "image/png": "[encoded data removed]",
      "text/plain": [
       "<Figure size 720x288 with 2 Axes>"
      ]
     },
     "metadata": {
      "needs_background": "light"
     },
     "output_type": "display_data"
    }
   ],
   "source": [
    "# Créez un graphe avec deux sous-graphes\n",
    "fig, axs = plt.subplots(1, 2, figsize=(10, 4))\n",
    "\n",
    "# Tracer la première courbe sur le premier sous-graphe\n",
    "axs[0].plot(l_tps, label=\"log(temps)\")\n",
    "axs[0].set_title(\"log(temps)\")\n",
    "\n",
    "# Tracer la deuxième courbe sur le deuxième sous-graphe\n",
    "l_rendu_bis = np.log(np.abs(l_rendu))\n",
    "axs[1].plot(l_rendu_bis, label=\"rendu\")\n",
    "axs[1].set_title(\"rendu\")\n",
    "\n",
    "# Ajouter une légende\n",
    "plt.legend()\n",
    "\n",
    "# Afficher le graphe\n",
    "plt.show()"
   ]
  }
 ],
 "metadata": {
  "kernelspec": {
   "display_name": "Python 3 (ipykernel)",
   "language": "python",
   "name": "python3"
  },
  "language_info": {
   "codemirror_mode": {
    "name": "ipython",
    "version": 3
   },
   "file_extension": ".py",
   "mimetype": "text/x-python",
   "name": "python",
   "nbconvert_exporter": "python",
   "pygments_lexer": "ipython3",
   "version": "3.9.7"
  }
 },
 "nbformat": 4,
 "nbformat_minor": 5
}
