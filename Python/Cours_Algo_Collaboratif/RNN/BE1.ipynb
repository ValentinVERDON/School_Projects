{
 "cells": [
  {
   "cell_type": "markdown",
   "id": "5d556e48-89d7-4ade-b9ea-337f2a24aa7c",
   "metadata": {},
   "source": [
    "# BE 1 :"
   ]
  },
  {
   "cell_type": "markdown",
   "id": "736d9d48-77c6-4b63-beae-a1c2e9824359",
   "metadata": {
    "tags": []
   },
   "source": [
    "## Les imports"
   ]
  },
  {
   "cell_type": "code",
   "execution_count": 58,
   "id": "cfe8dc86-e57a-4843-bfb9-f94be040f85d",
   "metadata": {},
   "outputs": [],
   "source": [
    "import math as mp\n",
    "import numpy as np\n",
    "import matplotlib.pyplot as plt\n",
    "import time\n",
    "import random\n",
    "from tqdm import tqdm"
   ]
  },
  {
   "cell_type": "markdown",
   "id": "454dd2b7-1320-48db-9850-b43d760bff59",
   "metadata": {},
   "source": [
    "## Problème 0"
   ]
  },
  {
   "cell_type": "markdown",
   "id": "40da1253-42bf-4ba5-a2cc-e577537aa14b",
   "metadata": {},
   "source": [
    "La fonction utilisée est : sur [-1;1]"
   ]
  },
  {
   "cell_type": "code",
   "execution_count": 19,
   "id": "1a754370-e141-40bf-8bb6-62050b508210",
   "metadata": {},
   "outputs": [],
   "source": [
    "def f(x):\n",
    "    return -x*x*(2+np.sin(10*x))**2"
   ]
  },
  {
   "cell_type": "code",
   "execution_count": 20,
   "id": "99b317dc-a904-4225-8802-aff41b2330c9",
   "metadata": {},
   "outputs": [],
   "source": [
    "def tracer():\n",
    "    X = np.linspace(-1,1,100)\n",
    "    plt.figure()\n",
    "    plt.plot(X,f(X))\n",
    "    plt.title('f(X)')"
   ]
  },
  {
   "cell_type": "code",
   "execution_count": 21,
   "id": "18cc7d17-a470-457e-8899-254a2d15611e",
   "metadata": {},
   "outputs": [
    {
     "data": {
      "image/png": "[encoded data removed]",
      "text/plain": [
       "<Figure size 432x288 with 1 Axes>"
      ]
     },
     "metadata": {
      "needs_background": "light"
     },
     "output_type": "display_data"
    }
   ],
   "source": [
    "tracer()"
   ]
  },
  {
   "cell_type": "code",
   "execution_count": 68,
   "id": "c58a0d72-504f-4902-9202-de8919f14481",
   "metadata": {},
   "outputs": [],
   "source": [
    "def mesure_temps(algo,param):\n",
    "    debut = time.time()\n",
    "    rendu = algo(*param)\n",
    "    fin = time.time()\n",
    "    duree = fin - debut\n",
    "    #print(\"Le temps d'exécution de l'algorithme est de :\", duree, \"secondes\")\n",
    "    #print(\"Le résultat est :\", rendu)\n",
    "    \n",
    "    return duree, rendu"
   ]
  },
  {
   "cell_type": "markdown",
   "id": "b4d7d1a0-ed4f-471d-8012-ee6a672736cb",
   "metadata": {},
   "source": [
    "### Test d'un premier algo génétique"
   ]
  },
  {
   "cell_type": "code",
   "execution_count": 74,
   "id": "b900bf18-b8fe-404c-a5c8-783510bc7613",
   "metadata": {},
   "outputs": [],
   "source": [
    "def algo_genetique(Npop,pM,pm,ps,prec,em):\n",
    "    \n",
    "    #On génère un tableau numpy de départ de facon aléatoire\n",
    "    pop = np.random.uniform(-1, 1, (Npop))\n",
    "    #On calcul f(depart)\n",
    "    calcul = f(pop)\n",
    "    \n",
    "    #On trie le résultat (ainsi que la pop initiale)\n",
    "    indices = np.argsort(calcul)\n",
    "    pop = pop[indices]\n",
    "    calcul = calcul[indices]\n",
    "    \n",
    "    #On calcul l'erreur :\n",
    "    erreur = abs(calcul[Npop-1]) #on sait que le maximum est en 0 (calcul théorique)\n",
    "\n",
    "    # !!! ON NE REMPLACE QUE LA FIN DE LA LISTE !!!\n",
    "    #Boucle de répétition :\n",
    "    while erreur > prec :\n",
    "        \n",
    "        #Grande mutation :\n",
    "        if pM > 0: \n",
    "            #on calcul le nombre d'élément à modifier\n",
    "            taille_sous_tableau_M = int(pM*Npop)\n",
    "            #on calcul les valeurs alétoire\n",
    "            pop_M = np.random.uniform(-1, 1, (taille_sous_tableau_M))\n",
    "            #on fait l'attribution\n",
    "            pop[0:taille_sous_tableau_M] = pop_M\n",
    "    \n",
    "        #Petite mutation : \n",
    "        if pm > 0 :\n",
    "            #on réattribue une valeur aléatoire dans une boule de rayon em\n",
    "            taille_sous_tableau_m = int(pm*Npop)\n",
    "            pop_m = pop[Npop-1] + np.random.uniform(-em, em, (taille_sous_tableau_m))\n",
    "            pop[taille_sous_tableau_M:taille_sous_tableau_M+taille_sous_tableau_m+1] = pop_m    \n",
    "\n",
    "        #Crossover :\n",
    "        if ps>0:\n",
    "            taille_sous_tableau_s = int(ps*Npop)\n",
    "            pop_s = (pop[Npop-1] + pop[taille_sous_tableau_M+taille_sous_tableau_m+1:taille_sous_tableau_M+taille_sous_tableau_m+taille_sous_tableau_s+1])/2\n",
    "            pop[taille_sous_tableau_M+taille_sous_tableau_m+1:taille_sous_tableau_M+taille_sous_tableau_m+taille_sous_tableau_s+1] = pop_s\n",
    "\n",
    "        #On calcul f(depart)\n",
    "        calcul = f(pop)\n",
    "    \n",
    "        #On trie le résultat (ainsi que la pop initiale)\n",
    "        indices = np.argsort(calcul)\n",
    "        pop = pop[indices]\n",
    "        calcul = calcul[indices]\n",
    "\n",
    "        #On calcul l'erreur :\n",
    "        erreur = abs(calcul[Npop-1]) #on sait que le maximum est en 0 (calcul théorique)\n",
    "            \n",
    "    return calcul[Npop-1]  "
   ]
  },
  {
   "cell_type": "code",
   "execution_count": 65,
   "id": "d95f2d50-a5a3-4314-aad9-b26336b533ae",
   "metadata": {},
   "outputs": [
    {
     "name": "stdout",
     "output_type": "stream",
     "text": [
      "Le temps d'exécution de l'algorithme est de : 0.1734023094177246 secondes\n",
      "Le résultat est : -8.692122142051062e-07\n"
     ]
    }
   ],
   "source": [
    "param = [10,0.8,0.1,0.1,1e-10,0.5]\n",
    "duree , rendu = mesure_temps(algo_genetique,param)"
   ]
  },
  {
   "cell_type": "code",
   "execution_count": 87,
   "id": "d2e779d6-7cd5-4a3c-9281-21a036cf3f79",
   "metadata": {},
   "outputs": [],
   "source": [
    "def tracer_courbe(Nb_pts):\n",
    "    eps = 1e-100\n",
    "    l_tps = []\n",
    "    l_rendu = []\n",
    "    for i in range(1,Nb_pts+1):\n",
    "        param = [10,0.8,0,0,10**(-8*(i/10)),0]\n",
    "        duree , rendu = mesure_temps(algo_genetique,param)\n",
    "        l_rendu.append(rendu)\n",
    "        print(\"duree:\" , duree, \" rendu:\" ,rendu)\n",
    "        l_tps.append(np.log(duree+eps))\n",
    "    plt.figure()\n",
    "    plt.plot(duree,rendu)\n",
    "    plt.title(\"Rendu en fonction du log(temps)\")\n",
    "    return l_tps , l_rendu"
   ]
  },
  {
   "cell_type": "code",
   "execution_count": 88,
   "id": "21c42ee5-a9dc-4a7e-bc31-b496d00c910f",
   "metadata": {},
   "outputs": [
    {
     "name": "stdout",
     "output_type": "stream",
     "text": [
      "duree: 0.0  rendu: -0.008854019351320989\n",
      "duree: 0.0  rendu: -0.0032423969894956072\n",
      "duree: 0.0  rendu: -0.0031005473997113508\n",
      "duree: 0.0  rendu: -1.4848075798472212e-06\n",
      "duree: 0.007031679153442383  rendu: -8.008396716197944e-05\n",
      "duree: 0.0  rendu: -1.4266981278575107e-06\n",
      "duree: 0.0  rendu: -2.958355430143888e-08\n",
      "duree: 0.008792638778686523  rendu: -8.993352006044247e-08\n",
      "duree: 0.007906913757324219  rendu: -1.0338605851828317e-09\n",
      "duree: 0.138580322265625  rendu: -4.944904086526277e-10\n",
      "duree: 0.04201078414916992  rendu: -2.529114907923131e-10\n",
      "duree: 0.09133672714233398  rendu: -1.2946787549298536e-10\n",
      "duree: 0.016918420791625977  rendu: -1.4018062784572513e-11\n",
      "duree: 0.0822751522064209  rendu: -4.241851481814778e-12\n",
      "duree: 6.416809320449829  rendu: -8.411744379227193e-13\n"
     ]
    },
    {
     "data": {
      "image/png": "[encoded data removed]",
      "text/plain": [
       "<Figure size 432x288 with 1 Axes>"
      ]
     },
     "metadata": {
      "needs_background": "light"
     },
     "output_type": "display_data"
    }
   ],
   "source": [
    "l_tps , l_rendu = tracer_courbe(15)"
   ]
  },
  {
   "cell_type": "code",
   "execution_count": 100,
   "id": "ef9442bd-783f-433d-b62f-53413f3c951e",
   "metadata": {},
   "outputs": [
    {
     "data": {
      "image/png": "[encoded data removed]",
      "text/plain": [
       "<Figure size 720x288 with 2 Axes>"
      ]
     },
     "metadata": {
      "needs_background": "light"
     },
     "output_type": "display_data"
    }
   ],
   "source": [
    "# Créez un graphe avec deux sous-graphes\n",
    "fig, axs = plt.subplots(1, 2, figsize=(10, 4))\n",
    "\n",
    "# Tracer la première courbe sur le premier sous-graphe\n",
    "axs[0].plot(l_tps, label=\"log(temps)\")\n",
    "axs[0].set_title(\"log(temps)\")\n",
    "\n",
    "# Tracer la deuxième courbe sur le deuxième sous-graphe\n",
    "l_rendu_bis = np.log(np.abs(l_rendu))\n",
    "axs[1].plot(l_rendu_bis, label=\"rendu\")\n",
    "axs[1].set_title(\"rendu\")\n",
    "\n",
    "# Ajouter une légende\n",
    "plt.legend()\n",
    "\n",
    "# Afficher le graphe\n",
    "plt.show()"
   ]
  },
  {
   "cell_type": "markdown",
   "id": "99f59a72-9154-49c9-b568-711730646792",
   "metadata": {
    "tags": []
   },
   "source": [
    "### Problème 1"
   ]
  },
  {
   "cell_type": "code",
   "execution_count": 24,
   "id": "28352cff-bc2e-4adc-a0ea-de5816753f98",
   "metadata": {},
   "outputs": [],
   "source": [
    "def calcul_esperance(p1,p2,t):\n",
    "    if t==1 :\n",
    "        return p1*p2 + (1-p1)*(1-p2)\n",
    "    else : \n",
    "        return p1*(1-p2)+ (1-p1)*p2"
   ]
  },
  {
   "cell_type": "code",
   "execution_count": 26,
   "id": "deff7a6d-d592-41f2-a0b9-f5c83bfe2245",
   "metadata": {},
   "outputs": [],
   "source": [
    "#calcul  de l'esperance type joueur 1 de i jouant avec pi de dire pair\n",
    "def calcul_esperance_debut(pop,pi,t=1):\n",
    "    esperance = 0\n",
    "    for i in range(pop.shape[0]):\n",
    "        esperance += calcul_esperance(pi,pop[i],t)\n",
    "    return esperance"
   ]
  },
  {
   "cell_type": "code",
   "execution_count": 74,
   "id": "b29a1be5-665d-4e35-9f8b-943c575e6f06",
   "metadata": {},
   "outputs": [],
   "source": [
    "#mise à jour des populations \n",
    "def maj_pop(pop,i_meilleur,i_pire,taille_mutation=0.003):\n",
    "    pop[i_pire] = pop[i_meilleur] + np.random.uniform(max(0,pop[i_meilleur]-taille_mutation)-pop[i_meilleur], -pop[i_meilleur] + min(pop[i_meilleur] +taille_mutation,1))"
   ]
  },
  {
   "cell_type": "code",
   "execution_count": 50,
   "id": "d6bc125a-4917-485c-9389-c3cd5c1b3001",
   "metadata": {},
   "outputs": [],
   "source": [
    "# on suppose que les proba sont associé au fait de dire paire !\n",
    "\n",
    "def pair_impair(N1,N2,t_max):\n",
    "    \n",
    "    # --------------- Etape alpha -------------------\n",
    "    #creation des populations\n",
    "    pop1 = np.random.rand(N1)\n",
    "    pop2 = np.random.rand(N2)\n",
    "    \n",
    "    # --------------- Etape beta --------------------\n",
    "    #recherche du meilleur indice \n",
    "    i1 , esp1_max = 0 , 0\n",
    "    i2 , esp2_max = 0 , 0\n",
    "    \n",
    "    #on calcul la meilleur espérance en moyenne\n",
    "    for i in range (N1):\n",
    "        esperance = calcul_esperance_debut(pop2,pop1[i],t=1)\n",
    "        if esperance > esp1_max :\n",
    "            esp1_max = esperance\n",
    "            i1 = i\n",
    "    \n",
    "    for i in range (N2):\n",
    "        esperance = calcul_esperance_debut(pop1,pop2[i],t=2)\n",
    "        if esperance > esp2_max :\n",
    "            esp2_max = esperance\n",
    "            i2 = i\n",
    "    \n",
    "    # --------------- Etape gamma --------------------\n",
    "    for k in range(t_max):\n",
    "        \n",
    "        #recherche meilleur et pire :\n",
    "        i_meilleur1 , esp_meilleur1 = 0 , 0\n",
    "        i_pire1  , esp_pire1 = 0 , 0\n",
    "        i_meilleur2 , esp_meilleur2 = 0 , 0\n",
    "        i_pire2 , esp_pire2 = 0 , 0\n",
    "        \n",
    "        #pop 1\n",
    "        for i in range(N1):\n",
    "            esp = calcul_esperance(pop1[i],pop2[i2],1)\n",
    "            if esp > esp_meilleur1 :\n",
    "                esp_meilleur1 = esp\n",
    "                i_meilleur1 = i\n",
    "            if esp < esp_pire1 :\n",
    "                esp_pire1 = esp\n",
    "                i_pire1 = i\n",
    "        #pop 2      \n",
    "        for i in range(N2):\n",
    "            esp = calcul_esperance(pop2[i],pop1[i1],2)\n",
    "            if esp > esp_meilleur2 :\n",
    "                esp_meilleur2 = esp\n",
    "                i_meilleur2 = i\n",
    "            if esp < esp_pire2 :\n",
    "                esp_pire2 = esp\n",
    "                i_pire2 = i\n",
    "                \n",
    "        #mise à jour des populations :\n",
    "        maj_pop(pop1,i_meilleur1,i_pire1)\n",
    "        maj_pop(pop2,i_meilleur2,i_pire2)\n",
    "        \n",
    "        #maj des indices d'origines\n",
    "        i1 , esp1_max =  i_meilleur1 , esp_meilleur1\n",
    "        i2 , esp2_max =  i_meilleur2 , esp_meilleur2\n",
    "    # ----------------- Resultat ---------------------\n",
    "    # On suppose que notre algo converge en moyenne vers la bonne solution\n",
    "    return pop1.mean(), pop2.mean()"
   ]
  },
  {
   "cell_type": "code",
   "execution_count": 75,
   "id": "341bb8c4-1876-4063-8e84-922c950f1ff2",
   "metadata": {},
   "outputs": [
    {
     "name": "stderr",
     "output_type": "stream",
     "text": [
      "100%|██████████| 20/20 [00:52<00:00,  2.63s/it]\n"
     ]
    },
    {
     "data": {
      "text/plain": [
       "Text(0.5, 1.0, 'N=500')"
      ]
     },
     "execution_count": 75,
     "metadata": {},
     "output_type": "execute_result"
    },
    {
     "data": {
      "image/png": "[encoded data removed]",
      "text/plain": [
       "<Figure size 432x288 with 1 Axes>"
      ]
     },
     "metadata": {
      "needs_background": "light"
     },
     "output_type": "display_data"
    }
   ],
   "source": [
    "N = [10,20,50,100,200,500]\n",
    "temps = np.linspace(10,3000,20,dtype=int)\n",
    "res1,res2 = [],[]\n",
    "i = N[5]\n",
    "for j in tqdm(temps):\n",
    "    (r1,r2) = pair_impair(i,i,j)\n",
    "    res1.append(r1)\n",
    "    res2.append(r2)\n",
    "plt.figure()\n",
    "plt.plot(temps,res1,c='r',label=\"pair\")\n",
    "plt.plot(temps,res2,c='b',label=\"impair\")\n",
    "plt.legend()\n",
    "plt.title('N=' + str(i))"
   ]
  },
  {
   "cell_type": "markdown",
   "id": "379bce4c-1900-4cd1-a4b3-9e4479211f11",
   "metadata": {},
   "source": [
    "### Problème n°2"
   ]
  },
  {
   "cell_type": "markdown",
   "id": "2dad7a82-2d5c-45c1-8d30-bd2a6dc5f685",
   "metadata": {},
   "source": [
    "**Méthode**:\n",
    "- diviser les valeurs de tirages possibles en h paquets\n",
    "- pour chaque paquet les confronters à tout les autres paquets possibles de l'adversaire et voir qui est-ce qui donne le meilleur résultat en prenant les 4 configurations possibles"
   ]
  }
 ],
 "metadata": {
  "kernelspec": {
   "display_name": "Python 3 (ipykernel)",
   "language": "python",
   "name": "python3"
  },
  "language_info": {
   "codemirror_mode": {
    "name": "ipython",
    "version": 3
   },
   "file_extension": ".py",
   "mimetype": "text/x-python",
   "name": "python",
   "nbconvert_exporter": "python",
   "pygments_lexer": "ipython3",
   "version": "3.9.7"
  }
 },
 "nbformat": 4,
 "nbformat_minor": 5
}
